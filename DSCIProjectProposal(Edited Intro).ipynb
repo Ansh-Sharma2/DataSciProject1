{
 "cells": [
  {
   "cell_type": "markdown",
   "id": "e0bf38f0",
   "metadata": {},
   "source": [
    "**DATA SCIENCE PROJECT(GROUP 39) - Classifying a Country's Status**\n",
    "\n",
    "\n",
    "**Introduction**\n",
    "A country's status can be defined or classified as either developed or developing. This is determined by factors including life expectancy, percentage of spending, GDP, schooling income composition of resources, and percentage of thinness. These specfically mentioned factors will be used in our analysis and code. The WHO data repository on the Life expectancy of various countries from 2000 to 2015 provides the data for our project. The goal of this research project is to select the best predictor variable from the available factors in order to utilize a classification model to forecast the status of countries. The model's accuracy will then be evaluated by contrasting its output with the original data."
   ]
  },
  {
   "cell_type": "code",
   "execution_count": null,
   "id": "8d7d4cf2",
   "metadata": {},
   "outputs": [],
   "source": []
  }
 ],
 "metadata": {
  "kernelspec": {
   "display_name": "Python 3 (ipykernel)",
   "language": "python",
   "name": "python3"
  },
  "language_info": {
   "codemirror_mode": {
    "name": "ipython",
    "version": 3
   },
   "file_extension": ".py",
   "mimetype": "text/x-python",
   "name": "python",
   "nbconvert_exporter": "python",
   "pygments_lexer": "ipython3",
   "version": "3.9.12"
  }
 },
 "nbformat": 4,
 "nbformat_minor": 5
}
